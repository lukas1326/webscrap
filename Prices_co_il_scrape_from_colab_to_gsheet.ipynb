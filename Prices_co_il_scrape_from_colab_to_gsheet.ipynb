{
  "nbformat": 4,
  "nbformat_minor": 0,
  "metadata": {
    "colab": {
      "name": "Prices_co_il_scrape_from_colab_to_gsheet.ipynb",
      "provenance": [],
      "private_outputs": true,
      "authorship_tag": "ABX9TyNrziXkRTNej+Bop10FKP/i",
      "include_colab_link": true
    },
    "kernelspec": {
      "name": "python3",
      "display_name": "Python 3"
    }
  },
  "cells": [
    {
      "cell_type": "markdown",
      "metadata": {
        "id": "view-in-github",
        "colab_type": "text"
      },
      "source": [
        "<a href=\"https://colab.research.google.com/github/lukas1326/webscrap/blob/master/Prices_co_il_scrape_from_colab_to_gsheet.ipynb\" target=\"_parent\"><img src=\"https://colab.research.google.com/assets/colab-badge.svg\" alt=\"Open In Colab\"/></a>"
      ]
    },
    {
      "cell_type": "code",
      "metadata": {
        "id": "72AaV4xFTY70",
        "colab_type": "code",
        "colab": {}
      },
      "source": [
        "!pip install --upgrade -q pygsheets"
      ],
      "execution_count": 0,
      "outputs": []
    },
    {
      "cell_type": "code",
      "metadata": {
        "id": "s-15J3XGZ9lY",
        "colab_type": "code",
        "colab": {}
      },
      "source": [
        "!pip install --upgrade -q googletrans"
      ],
      "execution_count": 0,
      "outputs": []
    },
    {
      "cell_type": "code",
      "metadata": {
        "id": "1nw_8YerZ4rI",
        "colab_type": "code",
        "colab": {}
      },
      "source": [
        "import time\n",
        "import pandas as pd\n",
        "import requests\n",
        "from bs4 import BeautifulSoup\n",
        "from textblob import TextBlob\n",
        "from googletrans import Translator"
      ],
      "execution_count": 0,
      "outputs": []
    },
    {
      "cell_type": "code",
      "metadata": {
        "id": "D7wlBS0aTnkX",
        "colab_type": "code",
        "colab": {}
      },
      "source": [
        "import google.auth\n",
        "from google.colab import auth\n",
        "\n",
        "auth.authenticate_user()\n",
        "import pygsheets\n",
        "credentials, _ = google.auth.default()\n",
        "gc = pygsheets.client.Client(credentials)"
      ],
      "execution_count": 0,
      "outputs": []
    },
    {
      "cell_type": "code",
      "metadata": {
        "id": "UNWvBfMYUFSv",
        "colab_type": "code",
        "colab": {}
      },
      "source": [
        "gc\n"
      ],
      "execution_count": 0,
      "outputs": []
    },
    {
      "cell_type": "markdown",
      "metadata": {
        "id": "UfTxY6YoUv7F",
        "colab_type": "text"
      },
      "source": [
        "# Gredentials to my google file and sheet"
      ]
    },
    {
      "cell_type": "code",
      "metadata": {
        "id": "CbQmPvLaUyZc",
        "colab_type": "code",
        "colab": {}
      },
      "source": [
        "# copy key документа google из ссылки https://docs.google.com/spreadsheets/d/1CdYnN62Et7U4q27CnbEfiBg33xYhUC_OxpwsrqbXxOw/edit#gid=1962332589\n",
        "# между /d/  and /edit\n",
        "sheet=gc.open_by_key(\"1CdYnN62Et7U4q27CnbEfiBg33xYhUC_OxpwsrqbXxOw\")"
      ],
      "execution_count": 0,
      "outputs": []
    },
    {
      "cell_type": "code",
      "metadata": {
        "id": "k7tZUObJUy21",
        "colab_type": "code",
        "colab": {}
      },
      "source": [
        "# change the sheet number\n",
        "worksheet = sheet.worksheet_by_title('Sheet6')"
      ],
      "execution_count": 0,
      "outputs": []
    },
    {
      "cell_type": "code",
      "metadata": {
        "id": "udwJvQk1U-3G",
        "colab_type": "code",
        "colab": {}
      },
      "source": [
        ""
      ],
      "execution_count": 0,
      "outputs": []
    },
    {
      "cell_type": "markdown",
      "metadata": {
        "id": "UqQZ8YuVbDsA",
        "colab_type": "text"
      },
      "source": [
        "# Get soup\n"
      ]
    },
    {
      "cell_type": "code",
      "metadata": {
        "id": "hp_1PXRdbHxi",
        "colab_type": "code",
        "colab": {}
      },
      "source": [
        "#url = \"https://www.pricez.co.il/Search.php?q=%D7%97%D7%9C%D7%91+%D7%9E%D7%A8%D7%95%D7%9B%D7%96+%D7%9E%D7%9E%D7%95%D7%AA%D7%A7\" - сгущенка\n",
        "#url = \"https://www.pricez.co.il/Alternative-Products.html?APID=1323&Sort=2\"# - toffee candy\n",
        "url = \"https://www.pricez.co.il/Category/1/41/69/%D7%92%D7%9C%D7%99%D7%93%D7%94-%D7%A8%D7%92%D7%99%D7%9C%D7%94-%D7%A9%D7%9E%D7%A0%D7%AA\" #plain ice cream\n",
        "html = requests.get(url).text\n",
        "soup = BeautifulSoup(html)"
      ],
      "execution_count": 0,
      "outputs": []
    },
    {
      "cell_type": "markdown",
      "metadata": {
        "id": "Z3Rn_A2AaXfJ",
        "colab_type": "text"
      },
      "source": [
        "# Get pictures from site\n"
      ]
    },
    {
      "cell_type": "code",
      "metadata": {
        "id": "olCBHELNauZq",
        "colab_type": "code",
        "colab": {}
      },
      "source": [
        "# the for image without /s/ means the link of bigger picter with good quality\n",
        "images = []\n",
        "for i  in soup.select('.ProductImage'):\n",
        "    for j in i.findAll('img'):\n",
        "        buz = j['src']\n",
        "        if \"ProductPictures\" in buz:\n",
        "            images.append(buz.replace('/s/','/'))\n"
      ],
      "execution_count": 0,
      "outputs": []
    },
    {
      "cell_type": "code",
      "metadata": {
        "id": "OXX8zMTKdXMt",
        "colab_type": "code",
        "colab": {}
      },
      "source": [
        "# Insert images in column \"A\"\n",
        "for i in range(len(images)):\n",
        "  acell = worksheet.cell(f'A{i+1}')\n",
        "  acell.formula=f'IMAGE(\"{images[i]}\")'"
      ],
      "execution_count": 0,
      "outputs": []
    },
    {
      "cell_type": "markdown",
      "metadata": {
        "id": "2jt_kZu3hYhP",
        "colab_type": "text"
      },
      "source": [
        "# Get data from site\n"
      ]
    },
    {
      "cell_type": "code",
      "metadata": {
        "id": "jwtm7JtZhgFF",
        "colab_type": "code",
        "colab": {}
      },
      "source": [
        "# Get grom html text of price information\n",
        "PriceRange = []\n",
        "for i in soup.select('.ProductPriceRange'):       \n",
        "    PriceRange.append(i.text)\n",
        "    \n"
      ],
      "execution_count": 0,
      "outputs": []
    },
    {
      "cell_type": "code",
      "metadata": {
        "id": "WFEPSfQOTFmb",
        "colab_type": "code",
        "colab": {}
      },
      "source": [
        "# Get links of all products on page. It needs to get inside all product taking full information (category, product groups)\n",
        "urlik = []\n",
        "for i in soup.select('.ProductName'):\n",
        "    k = i.find_all(href = True)[0]\n",
        "    urlik.append(f\"https://www.pricez.co.il{k['href']}\")"
      ],
      "execution_count": 0,
      "outputs": []
    },
    {
      "cell_type": "code",
      "metadata": {
        "id": "6X3zIYP2TJRs",
        "colab_type": "code",
        "colab": {}
      },
      "source": [
        "# Beautiful soup inside Beautifulsoup\n",
        "name = []\n",
        "supplier = []\n",
        "category = []\n",
        "product_groups = []\n",
        "url1 = urlik \n",
        "for i in url1:\n",
        "    soupik = BeautifulSoup(requests.get(i).text)\n",
        "    be = soupik.select_one('.ProductInfo')\n",
        "    name.append(be.find('h1').text)\n",
        "    puk = [ ]\n",
        "    for j in be.findAll('a'):\n",
        "        puk.append(j.text)\n",
        "    supplier.append(puk[0])\n",
        "    category.append(puk[1])\n",
        "    product_groups.append(puk[2])"
      ],
      "execution_count": 0,
      "outputs": []
    },
    {
      "cell_type": "code",
      "metadata": {
        "id": "diSQ9EhMTfCt",
        "colab_type": "code",
        "colab": {}
      },
      "source": [
        "# check the lenths of all fiels \n",
        "len(images),len(name),len(PriceRange),len(supplier),len(category),len(product_groups)"
      ],
      "execution_count": 0,
      "outputs": []
    },
    {
      "cell_type": "code",
      "metadata": {
        "id": "lOk-iVzAiBsD",
        "colab_type": "code",
        "colab": {}
      },
      "source": [
        "# word-to-word translation by google API \n",
        "# not optimal, takes much time\n",
        "# can be overloaded and stopped - should be restart next day\n",
        "def trans(inList):\n",
        "    z =[]\n",
        "    for i in inList:\n",
        "        k=str(TextBlob(i).translate(to='en'))\n",
        "        time.sleep(2)\n",
        "        z.append(k)\n",
        "    return z"
      ],
      "execution_count": 0,
      "outputs": []
    },
    {
      "cell_type": "code",
      "metadata": {
        "id": "DQQG34qjiTPc",
        "colab_type": "code",
        "colab": {}
      },
      "source": [
        "# field translation\n",
        "NameEng=trans(name)\n",
        "\n",
        "SupplierNameEng = trans(supplier)\n",
        "categoryEng  = trans(category)\n",
        "PriceRangeEng  = trans(PriceRange)\n",
        "product_groupsEng  = trans(product_groups)\n"
      ],
      "execution_count": 0,
      "outputs": []
    },
    {
      "cell_type": "code",
      "metadata": {
        "id": "ql80BW-Eimdd",
        "colab_type": "code",
        "colab": {}
      },
      "source": [
        "# name in cell (\"B\")\n",
        "for i in range(len(NameEng)):\n",
        "  acell = worksheet.cell(f'B{i+1}')\n",
        "  acell.set_value(NameEng[i])\n"
      ],
      "execution_count": 0,
      "outputs": []
    },
    {
      "cell_type": "code",
      "metadata": {
        "id": "yQkQZY3giyDq",
        "colab_type": "code",
        "colab": {}
      },
      "source": [
        "# supplier in cell ('C')\n",
        "for i in range(len(SupplierNameEng)):\n",
        "  acell = worksheet.cell(f'C{i+1}')\n",
        "  acell.set_value(SupplierNameEng[i])"
      ],
      "execution_count": 0,
      "outputs": []
    },
    {
      "cell_type": "code",
      "metadata": {
        "id": "jGD2iiFIvpbc",
        "colab_type": "code",
        "colab": {}
      },
      "source": [
        "# category in cell (\"D\")\n",
        "for i in range(len(categoryEng)):\n",
        "  acell = worksheet.cell(f'D{i+1}')\n",
        "  acell.set_value(categoryEng[i])"
      ],
      "execution_count": 0,
      "outputs": []
    },
    {
      "cell_type": "code",
      "metadata": {
        "id": "hYCeDdHEVfFy",
        "colab_type": "code",
        "colab": {}
      },
      "source": [
        "# product group in cell \"E\"\n",
        "for i in range(len(product_groupsEng)):\n",
        "  acell = worksheet.cell(f'E{i+1}')\n",
        "  acell.set_value(product_groupsEng[i])"
      ],
      "execution_count": 0,
      "outputs": []
    },
    {
      "cell_type": "code",
      "metadata": {
        "id": "N1RbUaflVnhz",
        "colab_type": "code",
        "colab": {}
      },
      "source": [
        "# price range in cell \"F\"\n",
        "for i in range(len(PriceRangeEng)):\n",
        "  acell = worksheet.cell(f'F{i+1}')\n",
        "  acell.set_value(PriceRangeEng[i])"
      ],
      "execution_count": 0,
      "outputs": []
    },
    {
      "cell_type": "markdown",
      "metadata": {
        "id": "vDu7caqpyYw_",
        "colab_type": "text"
      },
      "source": [
        "Extracting info from cells"
      ]
    },
    {
      "cell_type": "code",
      "metadata": {
        "id": "9-OOk8C0fJab",
        "colab_type": "code",
        "colab": {}
      },
      "source": [
        "NameEng = worksheet.get_col(2,include_tailing_empty=False)\n",
        "NameEng"
      ],
      "execution_count": 0,
      "outputs": []
    },
    {
      "cell_type": "code",
      "metadata": {
        "id": "YhmKTLMpYi72",
        "colab_type": "code",
        "colab": {}
      },
      "source": [
        "import re\n",
        "\n",
        "ves = []\n",
        "for i in NameEng:\n",
        "  try:\n",
        "    pattern = re.compile(r'\\d{2,3}')\n",
        "    ves.append(pattern.findall(i)[0])\n",
        "  except:\n",
        "    ves.append('')\n",
        "ves"
      ],
      "execution_count": 0,
      "outputs": []
    },
    {
      "cell_type": "code",
      "metadata": {
        "id": "0s74t3FBZtRN",
        "colab_type": "code",
        "colab": {}
      },
      "source": [
        "zhir = []\n",
        "for i in NameEng:\n",
        "  pattern = re.compile(r'\\s(\\S+)\\%')\n",
        "  zhir.append(pattern.findall(i))\n",
        "\n",
        "zhir"
      ],
      "execution_count": 0,
      "outputs": []
    },
    {
      "cell_type": "code",
      "metadata": {
        "id": "Rvi0MugJa3mq",
        "colab_type": "code",
        "colab": {}
      },
      "source": [
        "PriceRangeEng = worksheet.get_col(6,include_tailing_empty=False)\n",
        "for i in range(len(PriceRangeEng)):\n",
        "  acell = worksheet.cell(f'H{i+1}')\n",
        "  acell.set_value(PriceRangeEng[i].split()[-5])\n"
      ],
      "execution_count": 0,
      "outputs": []
    },
    {
      "cell_type": "code",
      "metadata": {
        "id": "yU1rG1C7iHXH",
        "colab_type": "code",
        "colab": {}
      },
      "source": [
        "for i in range(len(ves)):\n",
        "  acell = worksheet.cell(f'G{i+1}')\n",
        "  acell.set_value(ves[i])\n"
      ],
      "execution_count": 0,
      "outputs": []
    }
  ]
}